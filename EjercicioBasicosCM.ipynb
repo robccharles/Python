{
 "cells": [
  {
   "cell_type": "markdown",
   "metadata": {},
   "source": [
    "## Programas y ejercicio en Python  "
   ]
  },
  {
   "cell_type": "markdown",
   "metadata": {},
   "source": [
    "**Objetivo:** Aprender a elaborar programas simples en Python utilizando cuadernos de Jupyter.\n",
    "\n",
    "**Conocimientos previos, solo recomendable, sin embargo no mecesarios:** Conocimientos de programación básica: variables, estructuras de control, funciones y matrices.\n",
    "\n",
    "**Requerimiento técnicos y software:** Computadora con instalación de Jupyter Notebook y/o bien online por Internet.  "
   ]
  },
  {
   "cell_type": "markdown",
   "metadata": {},
   "source": [
    "## Cuadernos de Jupyter Notebook\n",
    "\n",
    "La forma tradicional de correr un programa en python es con el comando python nombre.py, donde nombre.py es un archivo con código fuente python.\n",
    "\n",
    "<div class=\"alert alert-info\"> En lugar de eso, para esta clase utilizaremos un servidor de Jupyter Notebook con cuadernos de código. Estos cuadernos (notebooks) nos permiten combinar texto y código, organizados en celdas, lo cual es más cómodo para probar cosas nuevas y documentar lo que hacemos.</div>\n",
    "\n",
    "El servidor de cuadernos se inicia ejecutando jupyter notebook desde la línea de comandos.\n",
    "\n",
    "Si tenemos cuadernos para abrir, antes de correr ese comando debemos ir al directorio con los cuadernos, de modo de poder abrirlos después. El servidor corre continuamente mientras usamos los cuadernos.\n",
    "\n",
    "Una vez que el servidor corre y se abre el navegador, podés elegir abrir un cuaderno anterior o crear uno nuevo. Luego, se escribe y ejecuta texto y código en el cuaderno, y podés salvar el estado de un cuaderno con ctrl+s en cualquier momento. Se guarda tanto el código como el resultado de las ejecuciones.\n",
    "\n",
    " "
   ]
  },
  {
   "cell_type": "markdown",
   "metadata": {},
   "source": [
    "## Uso de Cuadernos de Jupyter\n",
    "Los cuadernos tienen **dos tipos de celdas**, de *código y de texto*. \n",
    "\n",
    "* La celda que estás leyendo es una **celda de texto escrita con Markdown**, un lenguaje de marcado parecido al que utiliza wikipedia para sus páginas o al HTML.\n",
    "\n",
    "* Las **celdas de código son ejecutables**, es decir, se pueden correr individualmente (con ctrl+enter o desde el menu Cell -> Run Cells)"
   ]
  },
  {
   "cell_type": "markdown",
   "metadata": {},
   "source": [
    "<div class=\"alert alert-info\"> Tradicionalmente el primer programa en un lenguaje nuevo se llama “Hola,\n",
    "mundo” (Hello world!) porque sólo muestra las palabras “Hola a todo el mundo”. \n",
    "     \n",
    "En Python es así:Example text highlighted in blue background.</div>\n"
   ]
  },
  {
   "cell_type": "code",
   "execution_count": 23,
   "metadata": {},
   "outputs": [
    {
     "name": "stdout",
     "output_type": "stream",
     "text": [
      "Hola Mundo\n"
     ]
    }
   ],
   "source": [
    "print ('Hola Mundo')"
   ]
  },
  {
   "cell_type": "markdown",
   "metadata": {},
   "source": [
    "<div class=\"alert alert-info\"> \n",
    "Impresion de operaciones de la linea de comandos. Esto se puede hacer desde Jupyter. Tambien desde la linea de comandos.\n",
    "</div>"
   ]
  },
  {
   "cell_type": "markdown",
   "metadata": {},
   "source": [
    "## Python básico¶\n",
    "Las variables en python no necesitan ser declaradas, simplemente se definen al ser utilizadas por primera vez. Además, (si bien no es recomendable) pueden cambiar de tipo volviendo a definir."
   ]
  },
  {
   "cell_type": "code",
   "execution_count": 26,
   "metadata": {},
   "outputs": [
    {
     "name": "stdout",
     "output_type": "stream",
     "text": [
      "Hola Mexicali\n",
      "5\n",
      "19.5\n"
     ]
    }
   ],
   "source": [
    "z=\"Hola Mexicali\"\n",
    "print(z)\n",
    "\n",
    "w=5\n",
    "print(w)\n",
    "\n",
    "y=w+14.5\n",
    "print(y)"
   ]
  },
  {
   "cell_type": "code",
   "execution_count": 17,
   "metadata": {},
   "outputs": [
    {
     "name": "stdout",
     "output_type": "stream",
     "text": [
      "0.5\n"
     ]
    }
   ],
   "source": [
    "print(1/2)"
   ]
  },
  {
   "cell_type": "markdown",
   "metadata": {},
   "source": [
    "## Python básico\n",
    "\n",
    "<div class=\"alert alert-success\">Las variables en python no necesitan ser declaradas, simplemente se definen al ser utilizadas por primera vez. Además, (si bien no es recomendable) pueden cambiar de tipo volviendo a definir.</div>"
   ]
  },
  {
   "cell_type": "markdown",
   "metadata": {},
   "source": [
    "## Tipos de datos básicos\n",
    "\n",
    "Python tiene los mismos datos básicos que otros lenguajes: enteros, flotantes, strings y booleanos. Además, las listas son un tipo predefinido en el lenguaje."
   ]
  },
  {
   "cell_type": "markdown",
   "metadata": {},
   "source": [
    "### Numeros\n",
    "<div class=\"alert alert-info\"> Python tiene soporte para números enteros y de punto flotante.</div>"
   ]
  },
  {
   "cell_type": "code",
   "execution_count": 28,
   "metadata": {},
   "outputs": [
    {
     "name": "stdout",
     "output_type": "stream",
     "text": [
      "- Tipo de x:\n",
      "<class 'int'>\n",
      "- Valor de x:\n",
      "3\n",
      "- x modificado:\n",
      "4\n",
      "- x modificado:\n",
      "8\n",
      "- Varias cosas en una línea:\n",
      "1 2 8 10\n"
     ]
    }
   ],
   "source": [
    "### Enteros ###\n",
    "\n",
    "x = 3 \n",
    "\n",
    "print(\"- Tipo de x:\")\n",
    "print(type(x)) # Imprime el tipo (o `clase`) de x\n",
    "print(\"- Valor de x:\")\n",
    "print(x)       # Imprimir un valor\n",
    "# Modificación de x\n",
    "x += 1 \n",
    "print(\"- x modificado:\")\n",
    "print(x)  # Imprime \"4\"\n",
    "\n",
    "x *= 2\n",
    "print(\"- x modificado:\")\n",
    "print(x)  # Imprime \"8\"\n",
    "\n",
    "print(\"- Varias cosas en una línea:\")\n",
    "print(1,2,x,5*2) # imprime varias cosas a la vez"
   ]
  },
  {
   "cell_type": "code",
   "execution_count": 29,
   "metadata": {},
   "outputs": [
    {
     "name": "stdout",
     "output_type": "stream",
     "text": [
      "- Lista con 4 números:\n",
      "[57, 45, 7, 13]\n",
      "- Lista con 3 strings:\n",
      "['hola', 'chau', 'buen día']\n",
      "- Longitud de la lista:\n",
      "4\n"
     ]
    }
   ],
   "source": [
    "print(\"- Lista con 4 números:\")\n",
    "a=[57,45,7,13] # una lista con cuatro números\n",
    "print(a)\n",
    "\n",
    "print(\"- Lista con 3 strings:\")\n",
    "b=[\"hola\",\"chau\",\"buen día\"] # una lista con tres strings\n",
    "print(b)\n",
    "\n",
    "# la función `len` me da la longitud de la lista\n",
    "print(\"- Longitud de la lista:\")\n",
    "n=len(a)\n",
    "print(n)"
   ]
  },
  {
   "cell_type": "code",
   "execution_count": 31,
   "metadata": {},
   "outputs": [
    {
     "name": "stdout",
     "output_type": "stream",
     "text": [
      "- Elemento con índice 0 de la lista:\n",
      "hola\n",
      "- Elemento con índice 1 de la lista:\n",
      "chau\n",
      "- Elemento con índice 2 de la lista:\n",
      "buen día\n"
     ]
    }
   ],
   "source": [
    "#Para acceder a sus elementos, se utiliza el []\n",
    "# Los índices comienzan en 0\n",
    "print(\"- Elemento con índice 0 de la lista:\")\n",
    "print(b[0])\n",
    "print(\"- Elemento con índice 1 de la lista:\")\n",
    "print(b[1])\n",
    "print(\"- Elemento con índice 2 de la lista:\")\n",
    "print(b[2])"
   ]
  },
  {
   "cell_type": "markdown",
   "metadata": {},
   "source": [
    "## Variables, expresiones y sentencias"
   ]
  },
  {
   "cell_type": "markdown",
   "metadata": {},
   "source": [
    "### Valores y tipos \n",
    "El valor es uno de los elementos fundamentales (como por ejemplo una letra o\n",
    "un numero) que manipula un programa. Los valores que hemos visto hasta el\n",
    "momento son 2 (el resultado de sumar 1 + 1) y Hola, mundo."
   ]
  },
  {
   "cell_type": "markdown",
   "metadata": {},
   "source": [
    "<div class=\"alert alert-success\"> Estos valores son de distintos tipos: 2 es un entero y Hola, mundo es una\n",
    "cadena, llamada as´ı porque contiene una “cadena” de letras. </div>"
   ]
  },
  {
   "cell_type": "code",
   "execution_count": 18,
   "metadata": {},
   "outputs": [
    {
     "data": {
      "text/plain": [
       "str"
      ]
     },
     "execution_count": 18,
     "metadata": {},
     "output_type": "execute_result"
    }
   ],
   "source": [
    "type(\"Hola, mundo\")"
   ]
  },
  {
   "cell_type": "code",
   "execution_count": 22,
   "metadata": {},
   "outputs": [
    {
     "data": {
      "text/plain": [
       "int"
      ]
     },
     "execution_count": 22,
     "metadata": {},
     "output_type": "execute_result"
    }
   ],
   "source": [
    "type(14)"
   ]
  },
  {
   "cell_type": "code",
   "execution_count": null,
   "metadata": {},
   "outputs": [],
   "source": [
    "import random"
   ]
  },
  {
   "cell_type": "code",
   "execution_count": null,
   "metadata": {},
   "outputs": [],
   "source": [
    "def listaAleatorios(n):\n",
    "    s = [0] * n\n",
    "    for i in range(n):\n",
    "        s[i] = random.random()\n",
    "    return s"
   ]
  },
  {
   "cell_type": "code",
   "execution_count": null,
   "metadata": {},
   "outputs": [],
   "source": [
    "a=listaAleatorios(1000)\n",
    "lista=listaAleatorios(1000)"
   ]
  },
  {
   "cell_type": "code",
   "execution_count": null,
   "metadata": {},
   "outputs": [],
   "source": [
    "fruta = \"banana\"\n",
    "cuenta = 0\n",
    "for car in fruta:\n",
    "    if car == 'a':\n",
    "        cuenta = cuenta + 1\n",
    "print (cuenta)"
   ]
  },
  {
   "cell_type": "code",
   "execution_count": null,
   "metadata": {},
   "outputs": [],
   "source": [
    "def enElBalde(lista, minimo, maximo):\n",
    "    cuenta = 0\n",
    "    for num in lista:\n",
    "        if minimo < num < maximo:\n",
    "            cuenta = cuenta + 1\n",
    "    return cuenta\n"
   ]
  },
  {
   "cell_type": "code",
   "execution_count": null,
   "metadata": {},
   "outputs": [],
   "source": [
    "bajo = enElBalde(a, 0.0, 0.5)\n",
    "alto = enElBalde(a, 0.5, 1.0)"
   ]
  },
  {
   "cell_type": "code",
   "execution_count": null,
   "metadata": {},
   "outputs": [],
   "source": [
    "print(bajo,alto)"
   ]
  },
  {
   "cell_type": "code",
   "execution_count": 10,
   "metadata": {},
   "outputs": [
    {
     "name": "stdout",
     "output_type": "stream",
     "text": [
      "0.0 hasta 0.125\n",
      "0.125 hasta 0.25\n",
      "0.25 hasta 0.375\n",
      "0.375 hasta 0.5\n",
      "0.5 hasta 0.625\n",
      "0.625 hasta 0.75\n",
      "0.75 hasta 0.875\n",
      "0.875 hasta 1.0\n"
     ]
    }
   ],
   "source": [
    "numBaldes=8\n",
    "anchuraBalde = 1.0 / numBaldes\n",
    "for i in range(numBaldes):\n",
    "    minimo = i * anchuraBalde\n",
    "    maximo = minimo + anchuraBalde\n",
    "    print (minimo, \"hasta\", maximo)\n"
   ]
  },
  {
   "cell_type": "code",
   "execution_count": 11,
   "metadata": {},
   "outputs": [
    {
     "name": "stdout",
     "output_type": "stream",
     "text": [
      "[125, 137, 134, 135, 127, 115, 116, 111]\n"
     ]
    }
   ],
   "source": [
    "numBaldes = 8\n",
    "baldes = [0] * numBaldes\n",
    "anchuraBalde = 1.0 / numBaldes\n",
    "for i in range(numBaldes):\n",
    "    minimo = i * anchuraBalde\n",
    "    maximo = minimo + anchuraBalde\n",
    "    baldes[i] = enElBalde(lista, minimo, maximo)\n",
    "print (baldes)\n"
   ]
  },
  {
   "cell_type": "markdown",
   "metadata": {},
   "source": [
    "## Niveles de Oxigeno \n",
    "\n",
    "Display ten minutes of oxygen levels in your ship."
   ]
  },
  {
   "cell_type": "markdown",
   "metadata": {},
   "source": [
    "Cree un bloque de código e importe dos bibliotecas, **numpy** y **matplotlib**. Úselas para crear un gráfico de barras:"
   ]
  },
  {
   "cell_type": "code",
   "execution_count": 32,
   "metadata": {},
   "outputs": [
    {
     "data": {
      "image/png": "[encoded data removed]",
      "text/plain": [
       "<Figure size 640x480 with 1 Axes>"
      ]
     },
     "metadata": {},
     "output_type": "display_data"
    }
   ],
   "source": [
    "import numpy as np\n",
    "import matplotlib.pyplot as plt\n",
    "data = np.random.default_rng(12345)\n",
    "oxy_nums = data.integers(low=0, high=10, size=10)\n",
    "\n",
    "plt.bar(range(len(oxy_nums)), oxy_nums)\n",
    "plt.show()"
   ]
  },
  {
   "cell_type": "markdown",
   "metadata": {},
   "source": [
    "## Ejemplos de Latex en Libreta de Jupyter\n",
    "$$\\int_{0}^{\\pi/2}x^2 \\,dx$$\n",
    "\n",
    "$$ a = \\sum_{0}^{\\pi/2}x^2 \\,dx$$\n",
    "\n",
    "$$ dH(M, G) = \\sum I(m dif g_{i}) $$\n",
    "\n",
    "$$ H(G) = - \\sum_{i=1}^{n} P(g_{i})log_{2}P(g_{i}) $$\n",
    "\n",
    "$$\\frac {dx} {dt} = y $$\n",
    "               \n",
    "$$\\frac {dy}{dt} = z $$\n",
    "\n",
    "$$\\frac {\\partial x} {\\partial z} = y $$\n",
    "               \n",
    "$$\\frac {\\partial y}{\\partial t} = z $$\n",
    "\n",
    "\n",
    "$$\\frac {dz}{dt} = -ax -by -cz -d_{1} - f(x;k, \\alpha, h , p, q) $$\n",
    "\n",
    "$$ f(x;k, \\alpha, h , p, q) = \\sum_{i=-p}^{q} (x;k, \\alpha, h ) $$\n",
    "\n",
    "$$H(G) = - \\sum_{i=1}^{n} P(g_{i})log_{2}P(g_{i}) $$"
   ]
  },
  {
   "cell_type": "markdown",
   "metadata": {},
   "source": [
    "$$   \\int_0^1 \\! \\int_0^1 x^2 y^2\\,dx\\,dy  $$\n",
    "\n",
    "In non-relativistic wave mechanics, the wave function $ \\psi(\\mathbf{r},t)$ of a particle satisfies the ***Schródinger Wave Equation ***\n",
    "$$  i\\hbar\\frac{\\partial \\psi}{\\partial t}\n",
    "  = \\frac{-\\hbar^2}{2m} \\left(\n",
    "    \\frac{\\partial^2}{\\partial x^2}\n",
    "    + \\frac{\\partial^2}{\\partial y^2}\n",
    "    + \\frac{\\partial^2}{\\partial z^2}\n",
    "  \\right) \\psi + V \\psi.$$   \n",
    "  \n",
    "   Hola mundo  \n",
    "   \n",
    "  $$\n",
    "   \\frac{\\partial{u}}{\\partial{x}} = \\lim_{\\ell \\to 0}\\frac{u(x + \\ell, y, z, t) - u(x,y,z,t)}{\\ell}\n",
    "  $$\n",
    "  \n",
    "  $$ D_{x}f $$\n",
    "\n",
    "* The second order partial derivative with respect to $x$ and $y$ can be expressed as follows  \n",
    "   $$\n",
    "   \\frac{\\partial^2{f}}{\\partial{x^2}} = f''_x = \\partial_{xx}f = \\partial_{x}^2f \\quad \\frac{\\partial^2{u}}{\\partial{x^2}} = u_{xx}\\quad  \\text{and}\\quad \\frac{\\partial^2{f}}{\\partial{y^2}} = f''_y = \\partial_{yy}f = \\partial_{y}^2f \\quad \\frac{\\partial^2{u}}{\\partial{y^2}} = u_{yy} \n",
    "   $$"
   ]
  },
  {
   "cell_type": "markdown",
   "metadata": {},
   "source": [
    "Suppose $ f : \\mathbb{R}^n  \\to \\mathbb{R}^m $ is a function such that each of its first-order partial derivatives exist on $ \\mathbb{R}^n $. This function takes a point  $ x  \\in  \\mathbb{R}^n $ as input and produces the vector $ f(x)  \\in  \\mathbb{R}^m $ as output. Then, the Jacobian matrix of $ f $ is defined to be an $ m \\times n $ matrix, denoted by $ J $, whose $ (i,j)^{\\text{th}}  $ entry is $ \\mathbf{J} _{ij}=\\frac {\\partial f_{i}}{\\partial x_{j}} $ or explicitly\n",
    "  \n",
    "  \n",
    "  $$  \\mathbf {J} = \\begin{bmatrix}\n",
    "  \\dfrac{\\partial \\mathbf {f} }{\\partial x_{1}}  & \\cdots &  \\dfrac {\\partial \\mathbf{f}}{\\partial x_{n}}\n",
    "  \\end{bmatrix}  ={\\begin{bmatrix}\n",
    "  \\nabla^{\\mathrm {T} }f_{1}\\\\\n",
    "  \\vdots \\\\\n",
    "  \\nabla^{\\mathrm {T} }f_{m}\n",
    "  \\end{bmatrix}}\n",
    "  =\\begin{bmatrix}\n",
    "  \\dfrac {\\partial f_{1}}{\\partial x_{1}} & \\cdots & \\dfrac {\\partial f_{1}}{\\partial x_{n}}\\\\\n",
    "  \\vdots &\\ddots &\\vdots \\\\\n",
    "  \\dfrac {\\partial f_{m}}{\\partial x_{1}} &\\cdots &\\dfrac{\\partial f_{m}}{\\partial x_{n}}\n",
    "  \\end{bmatrix}\n",
    "   $$\n",
    "where $ \\nabla ^{\\mathrm {T} }f_{i} $ is the transpose (row vector) of the gradient of the $ i $ component. "
   ]
  },
  {
   "cell_type": "markdown",
   "metadata": {},
   "source": [
    "#### Celda final"
   ]
  },
  {
   "cell_type": "code",
   "execution_count": null,
   "metadata": {},
   "outputs": [],
   "source": []
  }
 ],
 "metadata": {
  "kernelspec": {
   "display_name": "Python 3 (ipykernel)",
   "language": "python",
   "name": "python3"
  },
  "language_info": {
   "codemirror_mode": {
    "name": "ipython",
    "version": 3
   },
   "file_extension": ".py",
   "mimetype": "text/x-python",
   "name": "python",
   "nbconvert_exporter": "python",
   "pygments_lexer": "ipython3",
   "version": "3.10.9"
  }
 },
 "nbformat": 4,
 "nbformat_minor": 4
}
